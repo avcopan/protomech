{
 "cells": [
  {
   "cell_type": "code",
   "execution_count": 1,
   "id": "3debd945",
   "metadata": {},
   "outputs": [],
   "source": [
    "import rmmd"
   ]
  },
  {
   "cell_type": "code",
   "execution_count": 2,
   "id": "c5efcd29",
   "metadata": {},
   "outputs": [
    {
     "data": {
      "text/plain": [
       "'/home/avcopan/code/RMMD/src/rmmd/__init__.py'"
      ]
     },
     "execution_count": 2,
     "metadata": {},
     "output_type": "execute_result"
    }
   ],
   "source": [
    "rmmd.__file__"
   ]
  },
  {
   "cell_type": "code",
   "execution_count": null,
   "id": "5f1dde55",
   "metadata": {},
   "outputs": [],
   "source": []
  }
 ],
 "metadata": {
  "kernelspec": {
   "display_name": "dev",
   "language": "python",
   "name": "python3"
  },
  "language_info": {
   "codemirror_mode": {
    "name": "ipython",
    "version": 3
   },
   "file_extension": ".py",
   "mimetype": "text/x-python",
   "name": "python",
   "nbconvert_exporter": "python",
   "pygments_lexer": "ipython3",
   "version": "3.13.3"
  }
 },
 "nbformat": 4,
 "nbformat_minor": 5
}
