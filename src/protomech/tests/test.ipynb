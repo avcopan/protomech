{
 "cells": [
  {
   "cell_type": "code",
   "execution_count": 1,
   "id": "d9b6904d",
   "metadata": {},
   "outputs": [],
   "source": [
    "from pathlib import Path\n",
    "\n",
    "import automech\n",
    "from protomech import mess\n",
    "\n",
    "DATA_PATH = Path(\"data\")\n",
    "\n",
    "\"\"\"Test prompt (bimolecular) instability merge.\"\"\"\n",
    "mech_file = DATA_PATH / \"cyclopentene_mech.json\"\n",
    "mech = automech.io.read(mech_file)\n",
    "\n",
    "mess_inp1 = DATA_PATH / \"acrolein-formation.inp\"\n",
    "mess_inp2 = DATA_PATH / \"cyclopentene-prompt-instability.inp\"\n",
    "surf1 = mess.surf.from_mess_input(mess_inp1)\n",
    "surf2 = mess.surf.from_mess_input(mess_inp2)\n",
    "surf = mess.surf.combine([surf1, surf2])\n",
    "surf = mess.surf.merge_resonant_instabilities(surf, mech)"
   ]
  },
  {
   "cell_type": "code",
   "execution_count": 2,
   "id": "aaafec6e",
   "metadata": {},
   "outputs": [],
   "source": [
    "mess.net.display(surf)"
   ]
  }
 ],
 "metadata": {
  "kernelspec": {
   "display_name": "all",
   "language": "python",
   "name": "python3"
  },
  "language_info": {
   "codemirror_mode": {
    "name": "ipython",
    "version": 3
   },
   "file_extension": ".py",
   "mimetype": "text/x-python",
   "name": "python",
   "nbconvert_exporter": "python",
   "pygments_lexer": "ipython3",
   "version": "3.12.11"
  }
 },
 "nbformat": 4,
 "nbformat_minor": 5
}
