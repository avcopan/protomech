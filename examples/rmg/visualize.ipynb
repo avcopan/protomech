{
 "cells": [
  {
   "cell_type": "code",
   "execution_count": null,
   "id": "01285538",
   "metadata": {},
   "outputs": [],
   "source": [
    "import automech"
   ]
  },
  {
   "cell_type": "code",
   "execution_count": null,
   "id": "fd78207b",
   "metadata": {},
   "outputs": [],
   "source": [
    "mech = automech.io.rmg.read.mechanism(\n",
    "    rxn_inp=\"reactions.inp\",\n",
    "    spc_inp=\"species.txt\",\n",
    ")"
   ]
  },
  {
   "cell_type": "code",
   "execution_count": null,
   "id": "dcb769f9",
   "metadata": {},
   "outputs": [],
   "source": [
    "# Display specific species by name\n",
    "automech.display_species(\n",
    "    mech,\n",
    "    spc_vals_=[\"CO2(13)\", \"C5H7O(2)\"],\n",
    ")"
   ]
  },
  {
   "cell_type": "code",
   "execution_count": null,
   "id": "1a54dea0",
   "metadata": {},
   "outputs": [],
   "source": [
    "# Display specific reactions by equation\n",
    "automech.display_reactions(\n",
    "    mech,\n",
    "    eqs=[\n",
    "        \"HOCO(17) = CO(12) + OH(4)\",\n",
    "        \"C5H7O(1) = C5H7O(2)\",\n",
    "    ],\n",
    ")"
   ]
  },
  {
   "cell_type": "code",
   "execution_count": null,
   "id": "e6b61bfd",
   "metadata": {},
   "outputs": [],
   "source": [
    "# Display all species\n",
    "automech.display_species(mech)"
   ]
  },
  {
   "cell_type": "code",
   "execution_count": null,
   "id": "9e2cf21c",
   "metadata": {},
   "outputs": [],
   "source": [
    "# Display all reactions\n",
    "automech.display_reactions(mech)"
   ]
  }
 ],
 "metadata": {
  "kernelspec": {
   "display_name": "all",
   "language": "python",
   "name": "python3"
  },
  "language_info": {
   "codemirror_mode": {
    "name": "ipython",
    "version": 3
   },
   "file_extension": ".py",
   "mimetype": "text/x-python",
   "name": "python",
   "nbconvert_exporter": "python",
   "pygments_lexer": "ipython3",
   "version": "3.12.11"
  }
 },
 "nbformat": 4,
 "nbformat_minor": 5
}
